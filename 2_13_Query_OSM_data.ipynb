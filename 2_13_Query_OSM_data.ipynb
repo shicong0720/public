{
  "nbformat": 4,
  "nbformat_minor": 0,
  "metadata": {
    "colab": {
      "name": "2/13 Query OSM data.ipynb",
      "provenance": [],
      "collapsed_sections": [
        "FXL3TTuT5Na-"
      ],
      "authorship_tag": "ABX9TyNKqPHn+4s50cF71AlEraiE",
      "include_colab_link": true
    },
    "kernelspec": {
      "display_name": "Python 3",
      "name": "python3"
    }
  },
  "cells": [
    {
      "cell_type": "markdown",
      "metadata": {
        "id": "view-in-github",
        "colab_type": "text"
      },
      "source": [
        "<a href=\"https://colab.research.google.com/github/shicong0720/public/blob/master/2_13_Query_OSM_data.ipynb\" target=\"_parent\"><img src=\"https://colab.research.google.com/assets/colab-badge.svg\" alt=\"Open In Colab\"/></a>"
      ]
    },
    {
      "cell_type": "markdown",
      "metadata": {
        "id": "J9RgETiDBn3b"
      },
      "source": [
        "# Set up environment"
      ]
    },
    {
      "cell_type": "code",
      "metadata": {
        "colab": {
          "base_uri": "https://localhost:8080/"
        },
        "id": "7tHTbjbQrkHV",
        "outputId": "219c5075-f44e-4c38-a201-df7955de7d67"
      },
      "source": [
        "!pip install pyproj"
      ],
      "execution_count": 1,
      "outputs": [
        {
          "output_type": "stream",
          "text": [
            "Requirement already satisfied: pyproj in /usr/local/lib/python3.6/dist-packages (3.0.0.post1)\n",
            "Requirement already satisfied: certifi in /usr/local/lib/python3.6/dist-packages (from pyproj) (2020.12.5)\n"
          ],
          "name": "stdout"
        }
      ]
    },
    {
      "cell_type": "code",
      "metadata": {
        "id": "GxP6Fog0J0qM"
      },
      "source": [
        "import pandas as pd\r\n",
        "from google.colab import drive\r\n",
        "import os\r\n",
        "import seaborn as sns\r\n",
        "import numpy as np\r\n",
        "import shapely\r\n",
        "import math"
      ],
      "execution_count": 2,
      "outputs": []
    },
    {
      "cell_type": "code",
      "metadata": {
        "colab": {
          "base_uri": "https://localhost:8080/"
        },
        "id": "WD78NfABh2UH",
        "outputId": "6697953d-7b60-4450-8d7e-018e4070ecdd"
      },
      "source": [
        "drive.mount('/content/gdrive',force_remount=True)\r\n",
        "os.chdir(\"/content/gdrive/My Drive/big data and city 2/\")"
      ],
      "execution_count": 3,
      "outputs": [
        {
          "output_type": "stream",
          "text": [
            "Mounted at /content/gdrive\n"
          ],
          "name": "stdout"
        }
      ]
    },
    {
      "cell_type": "markdown",
      "metadata": {
        "id": "OmMMOkua4RNI"
      },
      "source": [
        "# Get 500 cities boundary "
      ]
    },
    {
      "cell_type": "code",
      "metadata": {
        "colab": {
          "base_uri": "https://localhost:8080/"
        },
        "id": "NKDgVJiPz3sb",
        "outputId": "7244d9a5-cf0b-4214-b22d-fc7d478f6306"
      },
      "source": [
        "% pip install geopandas"
      ],
      "execution_count": 4,
      "outputs": [
        {
          "output_type": "stream",
          "text": [
            "Requirement already satisfied: geopandas in /usr/local/lib/python3.6/dist-packages (0.8.2)\n",
            "Requirement already satisfied: pandas>=0.23.0 in /usr/local/lib/python3.6/dist-packages (from geopandas) (1.1.5)\n",
            "Requirement already satisfied: fiona in /usr/local/lib/python3.6/dist-packages (from geopandas) (1.8.18)\n",
            "Requirement already satisfied: pyproj>=2.2.0 in /usr/local/lib/python3.6/dist-packages (from geopandas) (3.0.0.post1)\n",
            "Requirement already satisfied: shapely in /usr/local/lib/python3.6/dist-packages (from geopandas) (1.7.1)\n",
            "Requirement already satisfied: numpy>=1.15.4 in /usr/local/lib/python3.6/dist-packages (from pandas>=0.23.0->geopandas) (1.19.5)\n",
            "Requirement already satisfied: python-dateutil>=2.7.3 in /usr/local/lib/python3.6/dist-packages (from pandas>=0.23.0->geopandas) (2.8.1)\n",
            "Requirement already satisfied: pytz>=2017.2 in /usr/local/lib/python3.6/dist-packages (from pandas>=0.23.0->geopandas) (2018.9)\n",
            "Requirement already satisfied: cligj>=0.5 in /usr/local/lib/python3.6/dist-packages (from fiona->geopandas) (0.7.1)\n",
            "Requirement already satisfied: munch in /usr/local/lib/python3.6/dist-packages (from fiona->geopandas) (2.5.0)\n",
            "Requirement already satisfied: attrs>=17 in /usr/local/lib/python3.6/dist-packages (from fiona->geopandas) (20.3.0)\n",
            "Requirement already satisfied: click<8,>=4.0 in /usr/local/lib/python3.6/dist-packages (from fiona->geopandas) (7.1.2)\n",
            "Requirement already satisfied: six>=1.7 in /usr/local/lib/python3.6/dist-packages (from fiona->geopandas) (1.15.0)\n",
            "Requirement already satisfied: certifi in /usr/local/lib/python3.6/dist-packages (from fiona->geopandas) (2020.12.5)\n",
            "Requirement already satisfied: click-plugins>=1.0 in /usr/local/lib/python3.6/dist-packages (from fiona->geopandas) (1.1.1)\n"
          ],
          "name": "stdout"
        }
      ]
    },
    {
      "cell_type": "code",
      "metadata": {
        "colab": {
          "base_uri": "https://localhost:8080/"
        },
        "id": "q9rU73W2x84C",
        "outputId": "0fdc52ba-1aea-4d06-8c84-858437f7fdfe"
      },
      "source": [
        "import geopandas as gpd\r\n"
      ],
      "execution_count": 5,
      "outputs": [
        {
          "output_type": "stream",
          "text": [
            "/usr/local/lib/python3.6/dist-packages/geopandas/_compat.py:88: UserWarning: The Shapely GEOS version (3.8.0-CAPI-1.13.1 ) is incompatible with the GEOS version PyGEOS was compiled with (3.9.0-CAPI-1.16.2). Conversions between both will be slow.\n",
            "  shapely_geos_version, geos_capi_version_string\n"
          ],
          "name": "stderr"
        }
      ]
    },
    {
      "cell_type": "code",
      "metadata": {
        "colab": {
          "base_uri": "https://localhost:8080/",
          "height": 198
        },
        "id": "7J6-TdTqJ9Y_",
        "outputId": "a0f2053a-12da-483f-f761-aa5439d2dc90"
      },
      "source": [
        "area_boundary = gpd.read_file(\"500Cities_Tracts_Clip.geojson\")\r\n",
        "area_boundary.head()\r\n"
      ],
      "execution_count": 6,
      "outputs": [
        {
          "output_type": "execute_result",
          "data": {
            "text/html": [
              "<div>\n",
              "<style scoped>\n",
              "    .dataframe tbody tr th:only-of-type {\n",
              "        vertical-align: middle;\n",
              "    }\n",
              "\n",
              "    .dataframe tbody tr th {\n",
              "        vertical-align: top;\n",
              "    }\n",
              "\n",
              "    .dataframe thead th {\n",
              "        text-align: right;\n",
              "    }\n",
              "</style>\n",
              "<table border=\"1\" class=\"dataframe\">\n",
              "  <thead>\n",
              "    <tr style=\"text-align: right;\">\n",
              "      <th></th>\n",
              "      <th>place2010</th>\n",
              "      <th>tract2010</th>\n",
              "      <th>ST</th>\n",
              "      <th>PlaceName</th>\n",
              "      <th>plctract10</th>\n",
              "      <th>PlcTrPop10</th>\n",
              "      <th>geometry</th>\n",
              "    </tr>\n",
              "  </thead>\n",
              "  <tbody>\n",
              "    <tr>\n",
              "      <th>0</th>\n",
              "      <td>0107000</td>\n",
              "      <td>01073000100</td>\n",
              "      <td>01</td>\n",
              "      <td>Birmingham</td>\n",
              "      <td>0107000-01073000100</td>\n",
              "      <td>3042</td>\n",
              "      <td>POLYGON ((-9653001.056 3974630.899, -9652982.0...</td>\n",
              "    </tr>\n",
              "    <tr>\n",
              "      <th>1</th>\n",
              "      <td>0107000</td>\n",
              "      <td>01073000300</td>\n",
              "      <td>01</td>\n",
              "      <td>Birmingham</td>\n",
              "      <td>0107000-01073000300</td>\n",
              "      <td>2735</td>\n",
              "      <td>POLYGON ((-9657462.853 3968794.996, -9657470.2...</td>\n",
              "    </tr>\n",
              "    <tr>\n",
              "      <th>2</th>\n",
              "      <td>0107000</td>\n",
              "      <td>01073000400</td>\n",
              "      <td>01</td>\n",
              "      <td>Birmingham</td>\n",
              "      <td>0107000-01073000400</td>\n",
              "      <td>3338</td>\n",
              "      <td>POLYGON ((-9657275.613 3972217.160, -9657275.3...</td>\n",
              "    </tr>\n",
              "    <tr>\n",
              "      <th>3</th>\n",
              "      <td>0107000</td>\n",
              "      <td>01073000500</td>\n",
              "      <td>01</td>\n",
              "      <td>Birmingham</td>\n",
              "      <td>0107000-01073000500</td>\n",
              "      <td>2864</td>\n",
              "      <td>POLYGON ((-9660666.407 3968887.964, -9660631.7...</td>\n",
              "    </tr>\n",
              "    <tr>\n",
              "      <th>4</th>\n",
              "      <td>0107000</td>\n",
              "      <td>01073000700</td>\n",
              "      <td>01</td>\n",
              "      <td>Birmingham</td>\n",
              "      <td>0107000-01073000700</td>\n",
              "      <td>2577</td>\n",
              "      <td>POLYGON ((-9661391.097 3968591.429, -9661398.2...</td>\n",
              "    </tr>\n",
              "  </tbody>\n",
              "</table>\n",
              "</div>"
            ],
            "text/plain": [
              "  place2010  ...                                           geometry\n",
              "0   0107000  ...  POLYGON ((-9653001.056 3974630.899, -9652982.0...\n",
              "1   0107000  ...  POLYGON ((-9657462.853 3968794.996, -9657470.2...\n",
              "2   0107000  ...  POLYGON ((-9657275.613 3972217.160, -9657275.3...\n",
              "3   0107000  ...  POLYGON ((-9660666.407 3968887.964, -9660631.7...\n",
              "4   0107000  ...  POLYGON ((-9661391.097 3968591.429, -9661398.2...\n",
              "\n",
              "[5 rows x 7 columns]"
            ]
          },
          "metadata": {
            "tags": []
          },
          "execution_count": 6
        }
      ]
    },
    {
      "cell_type": "code",
      "metadata": {
        "id": "KmQTFuMfy5ZJ"
      },
      "source": [
        "area_boundary['area'] = np.nan\r\n",
        "for i in range(len(area_boundary)):\r\n",
        "  area_boundary.loc[i,'area'] = area_boundary.loc[i,'geometry'].area\r\n"
      ],
      "execution_count": 7,
      "outputs": []
    },
    {
      "cell_type": "code",
      "metadata": {
        "colab": {
          "base_uri": "https://localhost:8080/",
          "height": 198
        },
        "id": "QwPKVhygto1H",
        "outputId": "380cc98c-b762-46e4-d04d-93d32ea49374"
      },
      "source": [
        "area_boundary.head()\r\n"
      ],
      "execution_count": 8,
      "outputs": [
        {
          "output_type": "execute_result",
          "data": {
            "text/html": [
              "<div>\n",
              "<style scoped>\n",
              "    .dataframe tbody tr th:only-of-type {\n",
              "        vertical-align: middle;\n",
              "    }\n",
              "\n",
              "    .dataframe tbody tr th {\n",
              "        vertical-align: top;\n",
              "    }\n",
              "\n",
              "    .dataframe thead th {\n",
              "        text-align: right;\n",
              "    }\n",
              "</style>\n",
              "<table border=\"1\" class=\"dataframe\">\n",
              "  <thead>\n",
              "    <tr style=\"text-align: right;\">\n",
              "      <th></th>\n",
              "      <th>place2010</th>\n",
              "      <th>tract2010</th>\n",
              "      <th>ST</th>\n",
              "      <th>PlaceName</th>\n",
              "      <th>plctract10</th>\n",
              "      <th>PlcTrPop10</th>\n",
              "      <th>geometry</th>\n",
              "      <th>area</th>\n",
              "    </tr>\n",
              "  </thead>\n",
              "  <tbody>\n",
              "    <tr>\n",
              "      <th>0</th>\n",
              "      <td>0107000</td>\n",
              "      <td>01073000100</td>\n",
              "      <td>01</td>\n",
              "      <td>Birmingham</td>\n",
              "      <td>0107000-01073000100</td>\n",
              "      <td>3042</td>\n",
              "      <td>POLYGON ((-9653001.056 3974630.899, -9652982.0...</td>\n",
              "      <td>1.102526e+07</td>\n",
              "    </tr>\n",
              "    <tr>\n",
              "      <th>1</th>\n",
              "      <td>0107000</td>\n",
              "      <td>01073000300</td>\n",
              "      <td>01</td>\n",
              "      <td>Birmingham</td>\n",
              "      <td>0107000-01073000300</td>\n",
              "      <td>2735</td>\n",
              "      <td>POLYGON ((-9657462.853 3968794.996, -9657470.2...</td>\n",
              "      <td>3.020969e+06</td>\n",
              "    </tr>\n",
              "    <tr>\n",
              "      <th>2</th>\n",
              "      <td>0107000</td>\n",
              "      <td>01073000400</td>\n",
              "      <td>01</td>\n",
              "      <td>Birmingham</td>\n",
              "      <td>0107000-01073000400</td>\n",
              "      <td>3338</td>\n",
              "      <td>POLYGON ((-9657275.613 3972217.160, -9657275.3...</td>\n",
              "      <td>1.155412e+07</td>\n",
              "    </tr>\n",
              "    <tr>\n",
              "      <th>3</th>\n",
              "      <td>0107000</td>\n",
              "      <td>01073000500</td>\n",
              "      <td>01</td>\n",
              "      <td>Birmingham</td>\n",
              "      <td>0107000-01073000500</td>\n",
              "      <td>2864</td>\n",
              "      <td>POLYGON ((-9660666.407 3968887.964, -9660631.7...</td>\n",
              "      <td>6.955719e+06</td>\n",
              "    </tr>\n",
              "    <tr>\n",
              "      <th>4</th>\n",
              "      <td>0107000</td>\n",
              "      <td>01073000700</td>\n",
              "      <td>01</td>\n",
              "      <td>Birmingham</td>\n",
              "      <td>0107000-01073000700</td>\n",
              "      <td>2577</td>\n",
              "      <td>POLYGON ((-9661391.097 3968591.429, -9661398.2...</td>\n",
              "      <td>5.082370e+06</td>\n",
              "    </tr>\n",
              "  </tbody>\n",
              "</table>\n",
              "</div>"
            ],
            "text/plain": [
              "  place2010  ...          area\n",
              "0   0107000  ...  1.102526e+07\n",
              "1   0107000  ...  3.020969e+06\n",
              "2   0107000  ...  1.155412e+07\n",
              "3   0107000  ...  6.955719e+06\n",
              "4   0107000  ...  5.082370e+06\n",
              "\n",
              "[5 rows x 8 columns]"
            ]
          },
          "metadata": {
            "tags": []
          },
          "execution_count": 8
        }
      ]
    },
    {
      "cell_type": "markdown",
      "metadata": {
        "id": "_QJn3Uvm3RpA"
      },
      "source": [
        "# Get Health Data from CDC"
      ]
    },
    {
      "cell_type": "code",
      "metadata": {
        "id": "7uBgsXBxjIz8"
      },
      "source": [
        "health_data = pd.read_csv(\"500_Cities__Census_Tract-level_Data__GIS_Friendly_Format___2018_release.csv\")"
      ],
      "execution_count": 9,
      "outputs": []
    },
    {
      "cell_type": "code",
      "metadata": {
        "colab": {
          "base_uri": "https://localhost:8080/",
          "height": 391
        },
        "id": "yrLrUdadjlhO",
        "outputId": "d6600309-5da4-40c4-a68d-0037658bfb50"
      },
      "source": [
        "health_data.head()"
      ],
      "execution_count": 10,
      "outputs": [
        {
          "output_type": "execute_result",
          "data": {
            "text/html": [
              "<div>\n",
              "<style scoped>\n",
              "    .dataframe tbody tr th:only-of-type {\n",
              "        vertical-align: middle;\n",
              "    }\n",
              "\n",
              "    .dataframe tbody tr th {\n",
              "        vertical-align: top;\n",
              "    }\n",
              "\n",
              "    .dataframe thead th {\n",
              "        text-align: right;\n",
              "    }\n",
              "</style>\n",
              "<table border=\"1\" class=\"dataframe\">\n",
              "  <thead>\n",
              "    <tr style=\"text-align: right;\">\n",
              "      <th></th>\n",
              "      <th>StateAbbr</th>\n",
              "      <th>PlaceName</th>\n",
              "      <th>PlaceFIPS</th>\n",
              "      <th>TractFIPS</th>\n",
              "      <th>Place_TractID</th>\n",
              "      <th>Population2010</th>\n",
              "      <th>ACCESS2_CrudePrev</th>\n",
              "      <th>ACCESS2_Crude95CI</th>\n",
              "      <th>ARTHRITIS_CrudePrev</th>\n",
              "      <th>ARTHRITIS_Crude95CI</th>\n",
              "      <th>BINGE_CrudePrev</th>\n",
              "      <th>BINGE_Crude95CI</th>\n",
              "      <th>BPHIGH_CrudePrev</th>\n",
              "      <th>BPHIGH_Crude95CI</th>\n",
              "      <th>BPMED_CrudePrev</th>\n",
              "      <th>BPMED_Crude95CI</th>\n",
              "      <th>CANCER_CrudePrev</th>\n",
              "      <th>CANCER_Crude95CI</th>\n",
              "      <th>CASTHMA_CrudePrev</th>\n",
              "      <th>CASTHMA_Crude95CI</th>\n",
              "      <th>CHD_CrudePrev</th>\n",
              "      <th>CHD_Crude95CI</th>\n",
              "      <th>CHECKUP_CrudePrev</th>\n",
              "      <th>CHECKUP_Crude95CI</th>\n",
              "      <th>CHOLSCREEN_CrudePrev</th>\n",
              "      <th>CHOLSCREEN_Crude95CI</th>\n",
              "      <th>COLON_SCREEN_CrudePrev</th>\n",
              "      <th>COLON_SCREEN_Crude95CI</th>\n",
              "      <th>COPD_CrudePrev</th>\n",
              "      <th>COPD_Crude95CI</th>\n",
              "      <th>COREM_CrudePrev</th>\n",
              "      <th>COREM_Crude95CI</th>\n",
              "      <th>COREW_CrudePrev</th>\n",
              "      <th>COREW_Crude95CI</th>\n",
              "      <th>CSMOKING_CrudePrev</th>\n",
              "      <th>CSMOKING_Crude95CI</th>\n",
              "      <th>DENTAL_CrudePrev</th>\n",
              "      <th>DENTAL_Crude95CI</th>\n",
              "      <th>DIABETES_CrudePrev</th>\n",
              "      <th>DIABETES_Crude95CI</th>\n",
              "      <th>HIGHCHOL_CrudePrev</th>\n",
              "      <th>HIGHCHOL_Crude95CI</th>\n",
              "      <th>KIDNEY_CrudePrev</th>\n",
              "      <th>KIDNEY_Crude95CI</th>\n",
              "      <th>LPA_CrudePrev</th>\n",
              "      <th>LPA_Crude95CI</th>\n",
              "      <th>MAMMOUSE_CrudePrev</th>\n",
              "      <th>MAMMOUSE_Crude95CI</th>\n",
              "      <th>MHLTH_CrudePrev</th>\n",
              "      <th>MHLTH_Crude95CI</th>\n",
              "      <th>OBESITY_CrudePrev</th>\n",
              "      <th>OBESITY_Crude95CI</th>\n",
              "      <th>PAPTEST_CrudePrev</th>\n",
              "      <th>PAPTEST_Crude95CI</th>\n",
              "      <th>PHLTH_CrudePrev</th>\n",
              "      <th>PHLTH_Crude95CI</th>\n",
              "      <th>SLEEP_CrudePrev</th>\n",
              "      <th>SLEEP_Crude95CI</th>\n",
              "      <th>STROKE_CrudePrev</th>\n",
              "      <th>STROKE_Crude95CI</th>\n",
              "      <th>TEETHLOST_CrudePrev</th>\n",
              "      <th>TEETHLOST_Crude95CI</th>\n",
              "      <th>Geolocation</th>\n",
              "    </tr>\n",
              "  </thead>\n",
              "  <tbody>\n",
              "    <tr>\n",
              "      <th>0</th>\n",
              "      <td>CA</td>\n",
              "      <td>Los Angeles</td>\n",
              "      <td>644000</td>\n",
              "      <td>6037206032</td>\n",
              "      <td>0644000-06037206032</td>\n",
              "      <td>5275</td>\n",
              "      <td>28.0</td>\n",
              "      <td>(22.7, 33.2)</td>\n",
              "      <td>19.9</td>\n",
              "      <td>(18.8, 20.9)</td>\n",
              "      <td>13.0</td>\n",
              "      <td>(12.3, 13.7)</td>\n",
              "      <td>31.7</td>\n",
              "      <td>(30.6, 32.9)</td>\n",
              "      <td>70.0</td>\n",
              "      <td>(68.6, 71.4)</td>\n",
              "      <td>4.5</td>\n",
              "      <td>( 4.2,  4.7)</td>\n",
              "      <td>8.5</td>\n",
              "      <td>( 7.7,  9.3)</td>\n",
              "      <td>6.9</td>\n",
              "      <td>( 6.2,  7.6)</td>\n",
              "      <td>63.8</td>\n",
              "      <td>(62.5, 65.1)</td>\n",
              "      <td>66.0</td>\n",
              "      <td>(63.0, 69.0)</td>\n",
              "      <td>48.6</td>\n",
              "      <td>(44.5, 53.0)</td>\n",
              "      <td>6.5</td>\n",
              "      <td>( 5.6,  7.3)</td>\n",
              "      <td>18.2</td>\n",
              "      <td>(14.5, 22.6)</td>\n",
              "      <td>22.1</td>\n",
              "      <td>(18.4, 26.5)</td>\n",
              "      <td>15.6</td>\n",
              "      <td>(12.8, 18.1)</td>\n",
              "      <td>43.6</td>\n",
              "      <td>(38.7, 49.0)</td>\n",
              "      <td>15.5</td>\n",
              "      <td>(14.4, 16.4)</td>\n",
              "      <td>38.3</td>\n",
              "      <td>(36.8, 39.9)</td>\n",
              "      <td>4.1</td>\n",
              "      <td>( 3.8,  4.4)</td>\n",
              "      <td>33.3</td>\n",
              "      <td>(29.7, 36.5)</td>\n",
              "      <td>77.6</td>\n",
              "      <td>(74.5, 80.5)</td>\n",
              "      <td>15.0</td>\n",
              "      <td>(13.1, 16.7)</td>\n",
              "      <td>29.5</td>\n",
              "      <td>(28.1, 30.8)</td>\n",
              "      <td>83.7</td>\n",
              "      <td>(81.5, 86.0)</td>\n",
              "      <td>17.3</td>\n",
              "      <td>(15.3, 19.2)</td>\n",
              "      <td>38.9</td>\n",
              "      <td>(37.2, 40.4)</td>\n",
              "      <td>4.0</td>\n",
              "      <td>( 3.5,  4.5)</td>\n",
              "      <td>18.8</td>\n",
              "      <td>(12.6, 25.6)</td>\n",
              "      <td>POINT (-118.224698433 34.0470512474)</td>\n",
              "    </tr>\n",
              "    <tr>\n",
              "      <th>1</th>\n",
              "      <td>CA</td>\n",
              "      <td>Pasadena</td>\n",
              "      <td>656000</td>\n",
              "      <td>6037462001</td>\n",
              "      <td>0656000-06037462001</td>\n",
              "      <td>3974</td>\n",
              "      <td>23.3</td>\n",
              "      <td>(19.2, 27.8)</td>\n",
              "      <td>16.7</td>\n",
              "      <td>(16.0, 17.5)</td>\n",
              "      <td>16.3</td>\n",
              "      <td>(15.6, 16.9)</td>\n",
              "      <td>27.1</td>\n",
              "      <td>(26.1, 28.0)</td>\n",
              "      <td>63.7</td>\n",
              "      <td>(62.4, 65.0)</td>\n",
              "      <td>3.6</td>\n",
              "      <td>( 3.4,  3.7)</td>\n",
              "      <td>9.4</td>\n",
              "      <td>( 8.8, 10.1)</td>\n",
              "      <td>4.8</td>\n",
              "      <td>( 4.5,  5.2)</td>\n",
              "      <td>62.2</td>\n",
              "      <td>(61.0, 63.3)</td>\n",
              "      <td>65.7</td>\n",
              "      <td>(62.8, 68.4)</td>\n",
              "      <td>52.5</td>\n",
              "      <td>(49.0, 56.0)</td>\n",
              "      <td>6.0</td>\n",
              "      <td>( 5.3,  6.6)</td>\n",
              "      <td>19.4</td>\n",
              "      <td>(16.7, 22.9)</td>\n",
              "      <td>25.7</td>\n",
              "      <td>(22.2, 29.5)</td>\n",
              "      <td>17.8</td>\n",
              "      <td>(15.6, 20.0)</td>\n",
              "      <td>47.6</td>\n",
              "      <td>(43.4, 51.9)</td>\n",
              "      <td>11.6</td>\n",
              "      <td>(10.9, 12.2)</td>\n",
              "      <td>31.8</td>\n",
              "      <td>(30.6, 33.1)</td>\n",
              "      <td>3.2</td>\n",
              "      <td>( 3.0,  3.4)</td>\n",
              "      <td>27.0</td>\n",
              "      <td>(24.4, 29.6)</td>\n",
              "      <td>80.2</td>\n",
              "      <td>(77.4, 82.7)</td>\n",
              "      <td>15.7</td>\n",
              "      <td>(14.2, 17.3)</td>\n",
              "      <td>32.0</td>\n",
              "      <td>(30.8, 33.1)</td>\n",
              "      <td>85.8</td>\n",
              "      <td>(84.1, 87.5)</td>\n",
              "      <td>15.3</td>\n",
              "      <td>(13.9, 16.8)</td>\n",
              "      <td>40.2</td>\n",
              "      <td>(38.8, 41.5)</td>\n",
              "      <td>3.2</td>\n",
              "      <td>( 2.9,  3.5)</td>\n",
              "      <td>18.1</td>\n",
              "      <td>(13.7, 22.8)</td>\n",
              "      <td>POINT (-118.143832177 34.1633689905)</td>\n",
              "    </tr>\n",
              "    <tr>\n",
              "      <th>2</th>\n",
              "      <td>CA</td>\n",
              "      <td>Fullerton</td>\n",
              "      <td>628000</td>\n",
              "      <td>6059011504</td>\n",
              "      <td>0628000-06059011504</td>\n",
              "      <td>5473</td>\n",
              "      <td>11.7</td>\n",
              "      <td>( 9.6, 14.5)</td>\n",
              "      <td>8.3</td>\n",
              "      <td>( 7.9,  8.7)</td>\n",
              "      <td>18.6</td>\n",
              "      <td>(17.8, 19.5)</td>\n",
              "      <td>13.6</td>\n",
              "      <td>(13.0, 14.2)</td>\n",
              "      <td>49.5</td>\n",
              "      <td>(48.0, 51.0)</td>\n",
              "      <td>2.0</td>\n",
              "      <td>( 2.0,  2.1)</td>\n",
              "      <td>9.2</td>\n",
              "      <td>( 8.6, 10.1)</td>\n",
              "      <td>2.1</td>\n",
              "      <td>( 2.0,  2.3)</td>\n",
              "      <td>59.3</td>\n",
              "      <td>(58.1, 60.5)</td>\n",
              "      <td>54.5</td>\n",
              "      <td>(51.0, 57.4)</td>\n",
              "      <td>59.5</td>\n",
              "      <td>(56.9, 62.2)</td>\n",
              "      <td>3.4</td>\n",
              "      <td>( 3.0,  3.9)</td>\n",
              "      <td>34.6</td>\n",
              "      <td>(29.8, 38.9)</td>\n",
              "      <td>27.5</td>\n",
              "      <td>(23.9, 31.1)</td>\n",
              "      <td>13.3</td>\n",
              "      <td>(11.1, 15.8)</td>\n",
              "      <td>61.3</td>\n",
              "      <td>(57.0, 65.4)</td>\n",
              "      <td>4.6</td>\n",
              "      <td>( 4.4,  4.9)</td>\n",
              "      <td>21.1</td>\n",
              "      <td>(20.2, 22.2)</td>\n",
              "      <td>1.6</td>\n",
              "      <td>( 1.5,  1.7)</td>\n",
              "      <td>16.1</td>\n",
              "      <td>(14.2, 18.4)</td>\n",
              "      <td>81.0</td>\n",
              "      <td>(78.9, 82.9)</td>\n",
              "      <td>14.1</td>\n",
              "      <td>(12.4, 16.1)</td>\n",
              "      <td>18.7</td>\n",
              "      <td>(17.6, 19.8)</td>\n",
              "      <td>78.2</td>\n",
              "      <td>(75.4, 80.9)</td>\n",
              "      <td>8.5</td>\n",
              "      <td>( 7.7,  9.5)</td>\n",
              "      <td>33.4</td>\n",
              "      <td>(31.6, 35.1)</td>\n",
              "      <td>1.2</td>\n",
              "      <td>( 1.1,  1.3)</td>\n",
              "      <td>11.9</td>\n",
              "      <td>( 8.8, 16.0)</td>\n",
              "      <td>POINT (-117.883112998 33.8820402343)</td>\n",
              "    </tr>\n",
              "    <tr>\n",
              "      <th>3</th>\n",
              "      <td>TX</td>\n",
              "      <td>Longview</td>\n",
              "      <td>4843888</td>\n",
              "      <td>48183000401</td>\n",
              "      <td>4843888-48183000401</td>\n",
              "      <td>3371</td>\n",
              "      <td>19.3</td>\n",
              "      <td>(16.8, 21.9)</td>\n",
              "      <td>21.1</td>\n",
              "      <td>(20.2, 21.9)</td>\n",
              "      <td>20.9</td>\n",
              "      <td>(20.1, 21.8)</td>\n",
              "      <td>28.4</td>\n",
              "      <td>(27.4, 29.3)</td>\n",
              "      <td>72.4</td>\n",
              "      <td>(71.3, 73.5)</td>\n",
              "      <td>5.2</td>\n",
              "      <td>( 5.0,  5.5)</td>\n",
              "      <td>9.3</td>\n",
              "      <td>( 8.8,  9.9)</td>\n",
              "      <td>5.4</td>\n",
              "      <td>( 5.0,  5.8)</td>\n",
              "      <td>66.6</td>\n",
              "      <td>(65.5, 67.6)</td>\n",
              "      <td>68.9</td>\n",
              "      <td>(66.7, 71.0)</td>\n",
              "      <td>60.7</td>\n",
              "      <td>(56.9, 64.2)</td>\n",
              "      <td>6.1</td>\n",
              "      <td>( 5.5,  6.7)</td>\n",
              "      <td>35.6</td>\n",
              "      <td>(28.9, 43.1)</td>\n",
              "      <td>30.5</td>\n",
              "      <td>(25.3, 36.0)</td>\n",
              "      <td>20.5</td>\n",
              "      <td>(18.0, 22.7)</td>\n",
              "      <td>58.0</td>\n",
              "      <td>(54.8, 61.3)</td>\n",
              "      <td>9.2</td>\n",
              "      <td>( 8.7,  9.7)</td>\n",
              "      <td>33.9</td>\n",
              "      <td>(32.8, 35.1)</td>\n",
              "      <td>2.5</td>\n",
              "      <td>( 2.4,  2.7)</td>\n",
              "      <td>25.1</td>\n",
              "      <td>(23.0, 27.2)</td>\n",
              "      <td>74.3</td>\n",
              "      <td>(70.7, 77.7)</td>\n",
              "      <td>13.5</td>\n",
              "      <td>(12.4, 14.7)</td>\n",
              "      <td>33.9</td>\n",
              "      <td>(32.4, 35.2)</td>\n",
              "      <td>79.3</td>\n",
              "      <td>(76.5, 81.9)</td>\n",
              "      <td>11.8</td>\n",
              "      <td>(10.8, 12.8)</td>\n",
              "      <td>34.9</td>\n",
              "      <td>(33.4, 36.3)</td>\n",
              "      <td>2.7</td>\n",
              "      <td>( 2.5,  3.0)</td>\n",
              "      <td>15.1</td>\n",
              "      <td>(10.8, 20.4)</td>\n",
              "      <td>POINT (-94.7523262965 32.5544549842)</td>\n",
              "    </tr>\n",
              "    <tr>\n",
              "      <th>4</th>\n",
              "      <td>WI</td>\n",
              "      <td>Madison</td>\n",
              "      <td>5548000</td>\n",
              "      <td>55025002200</td>\n",
              "      <td>5548000-55025002200</td>\n",
              "      <td>4254</td>\n",
              "      <td>10.5</td>\n",
              "      <td>( 8.7, 12.6)</td>\n",
              "      <td>23.3</td>\n",
              "      <td>(21.9, 24.6)</td>\n",
              "      <td>25.0</td>\n",
              "      <td>(24.2, 25.8)</td>\n",
              "      <td>27.9</td>\n",
              "      <td>(26.6, 29.2)</td>\n",
              "      <td>74.6</td>\n",
              "      <td>(73.5, 75.8)</td>\n",
              "      <td>6.8</td>\n",
              "      <td>( 6.5,  7.1)</td>\n",
              "      <td>9.2</td>\n",
              "      <td>( 8.7, 10.0)</td>\n",
              "      <td>6.0</td>\n",
              "      <td>( 5.3,  6.7)</td>\n",
              "      <td>70.0</td>\n",
              "      <td>(69.0, 70.9)</td>\n",
              "      <td>76.0</td>\n",
              "      <td>(73.8, 78.0)</td>\n",
              "      <td>70.8</td>\n",
              "      <td>(66.5, 74.6)</td>\n",
              "      <td>5.7</td>\n",
              "      <td>( 4.8,  6.7)</td>\n",
              "      <td>29.7</td>\n",
              "      <td>(23.7, 36.3)</td>\n",
              "      <td>31.6</td>\n",
              "      <td>(26.1, 37.4)</td>\n",
              "      <td>16.6</td>\n",
              "      <td>(14.0, 19.4)</td>\n",
              "      <td>72.1</td>\n",
              "      <td>(68.7, 75.5)</td>\n",
              "      <td>8.7</td>\n",
              "      <td>( 7.9,  9.4)</td>\n",
              "      <td>34.6</td>\n",
              "      <td>(33.3, 35.9)</td>\n",
              "      <td>2.7</td>\n",
              "      <td>( 2.5,  2.9)</td>\n",
              "      <td>18.5</td>\n",
              "      <td>(16.1, 20.7)</td>\n",
              "      <td>80.9</td>\n",
              "      <td>(77.4, 84.2)</td>\n",
              "      <td>11.8</td>\n",
              "      <td>(10.5, 13.1)</td>\n",
              "      <td>29.5</td>\n",
              "      <td>(28.0, 30.9)</td>\n",
              "      <td>85.8</td>\n",
              "      <td>(83.4, 88.0)</td>\n",
              "      <td>11.3</td>\n",
              "      <td>( 9.8, 12.7)</td>\n",
              "      <td>30.8</td>\n",
              "      <td>(29.3, 32.2)</td>\n",
              "      <td>2.9</td>\n",
              "      <td>( 2.5,  3.3)</td>\n",
              "      <td>12.9</td>\n",
              "      <td>( 7.6, 19.8)</td>\n",
              "      <td>POINT (-89.3623704161 43.1211036947)</td>\n",
              "    </tr>\n",
              "  </tbody>\n",
              "</table>\n",
              "</div>"
            ],
            "text/plain": [
              "  StateAbbr  ...                           Geolocation\n",
              "0        CA  ...  POINT (-118.224698433 34.0470512474)\n",
              "1        CA  ...  POINT (-118.143832177 34.1633689905)\n",
              "2        CA  ...  POINT (-117.883112998 33.8820402343)\n",
              "3        TX  ...  POINT (-94.7523262965 32.5544549842)\n",
              "4        WI  ...  POINT (-89.3623704161 43.1211036947)\n",
              "\n",
              "[5 rows x 63 columns]"
            ]
          },
          "metadata": {
            "tags": []
          },
          "execution_count": 10
        }
      ]
    },
    {
      "cell_type": "code",
      "metadata": {
        "colab": {
          "base_uri": "https://localhost:8080/"
        },
        "id": "-h9P6Y7Ij35q",
        "outputId": "81a26069-fb15-48d5-9211-26276cdb8859"
      },
      "source": [
        "health_data.info()"
      ],
      "execution_count": 11,
      "outputs": [
        {
          "output_type": "stream",
          "text": [
            "<class 'pandas.core.frame.DataFrame'>\n",
            "RangeIndex: 27210 entries, 0 to 27209\n",
            "Data columns (total 63 columns):\n",
            " #   Column                  Non-Null Count  Dtype  \n",
            "---  ------                  --------------  -----  \n",
            " 0   StateAbbr               27210 non-null  object \n",
            " 1   PlaceName               27210 non-null  object \n",
            " 2   PlaceFIPS               27210 non-null  int64  \n",
            " 3   TractFIPS               27210 non-null  int64  \n",
            " 4   Place_TractID           27210 non-null  object \n",
            " 5   Population2010          27210 non-null  int64  \n",
            " 6   ACCESS2_CrudePrev       27209 non-null  float64\n",
            " 7   ACCESS2_Crude95CI       27209 non-null  object \n",
            " 8   ARTHRITIS_CrudePrev     27210 non-null  float64\n",
            " 9   ARTHRITIS_Crude95CI     27210 non-null  object \n",
            " 10  BINGE_CrudePrev         27210 non-null  float64\n",
            " 11  BINGE_Crude95CI         27210 non-null  object \n",
            " 12  BPHIGH_CrudePrev        27210 non-null  float64\n",
            " 13  BPHIGH_Crude95CI        27210 non-null  object \n",
            " 14  BPMED_CrudePrev         27210 non-null  float64\n",
            " 15  BPMED_Crude95CI         27210 non-null  object \n",
            " 16  CANCER_CrudePrev        27210 non-null  float64\n",
            " 17  CANCER_Crude95CI        27210 non-null  object \n",
            " 18  CASTHMA_CrudePrev       27210 non-null  float64\n",
            " 19  CASTHMA_Crude95CI       27210 non-null  object \n",
            " 20  CHD_CrudePrev           27210 non-null  float64\n",
            " 21  CHD_Crude95CI           27210 non-null  object \n",
            " 22  CHECKUP_CrudePrev       27210 non-null  float64\n",
            " 23  CHECKUP_Crude95CI       27210 non-null  object \n",
            " 24  CHOLSCREEN_CrudePrev    27210 non-null  float64\n",
            " 25  CHOLSCREEN_Crude95CI    27210 non-null  object \n",
            " 26  COLON_SCREEN_CrudePrev  27191 non-null  float64\n",
            " 27  COLON_SCREEN_Crude95CI  27191 non-null  object \n",
            " 28  COPD_CrudePrev          27210 non-null  float64\n",
            " 29  COPD_Crude95CI          27210 non-null  object \n",
            " 30  COREM_CrudePrev         27107 non-null  float64\n",
            " 31  COREM_Crude95CI         27107 non-null  object \n",
            " 32  COREW_CrudePrev         27101 non-null  float64\n",
            " 33  COREW_Crude95CI         27101 non-null  object \n",
            " 34  CSMOKING_CrudePrev      27210 non-null  float64\n",
            " 35  CSMOKING_Crude95CI      27210 non-null  object \n",
            " 36  DENTAL_CrudePrev        27210 non-null  float64\n",
            " 37  DENTAL_Crude95CI        27210 non-null  object \n",
            " 38  DIABETES_CrudePrev      27210 non-null  float64\n",
            " 39  DIABETES_Crude95CI      27210 non-null  object \n",
            " 40  HIGHCHOL_CrudePrev      27210 non-null  float64\n",
            " 41  HIGHCHOL_Crude95CI      27210 non-null  object \n",
            " 42  KIDNEY_CrudePrev        27210 non-null  float64\n",
            " 43  KIDNEY_Crude95CI        27210 non-null  object \n",
            " 44  LPA_CrudePrev           27210 non-null  float64\n",
            " 45  LPA_Crude95CI           27210 non-null  object \n",
            " 46  MAMMOUSE_CrudePrev      27173 non-null  float64\n",
            " 47  MAMMOUSE_Crude95CI      27173 non-null  object \n",
            " 48  MHLTH_CrudePrev         27210 non-null  float64\n",
            " 49  MHLTH_Crude95CI         27210 non-null  object \n",
            " 50  OBESITY_CrudePrev       27210 non-null  float64\n",
            " 51  OBESITY_Crude95CI       27210 non-null  object \n",
            " 52  PAPTEST_CrudePrev       25008 non-null  float64\n",
            " 53  PAPTEST_Crude95CI       25008 non-null  object \n",
            " 54  PHLTH_CrudePrev         27210 non-null  float64\n",
            " 55  PHLTH_Crude95CI         27210 non-null  object \n",
            " 56  SLEEP_CrudePrev         27210 non-null  float64\n",
            " 57  SLEEP_Crude95CI         27210 non-null  object \n",
            " 58  STROKE_CrudePrev        27210 non-null  float64\n",
            " 59  STROKE_Crude95CI        27210 non-null  object \n",
            " 60  TEETHLOST_CrudePrev     27150 non-null  float64\n",
            " 61  TEETHLOST_Crude95CI     27150 non-null  object \n",
            " 62  Geolocation             27210 non-null  object \n",
            "dtypes: float64(28), int64(3), object(32)\n",
            "memory usage: 13.1+ MB\n"
          ],
          "name": "stdout"
        }
      ]
    },
    {
      "cell_type": "markdown",
      "metadata": {
        "id": "tqBiz5A036W0"
      },
      "source": [
        "# Process Health Data and get the Longitude and Latitude\r\n"
      ]
    },
    {
      "cell_type": "code",
      "metadata": {
        "colab": {
          "base_uri": "https://localhost:8080/",
          "height": 391
        },
        "id": "GsIm8u8j1S7U",
        "outputId": "09fe9d85-f702-4dd2-f4a9-59c43df0c662"
      },
      "source": [
        "health_data = health_data[['Geolocation','Place_TractID','Population2010','ACCESS2_CrudePrev','ARTHRITIS_CrudePrev','BINGE_CrudePrev','BPHIGH_CrudePrev','BPMED_CrudePrev','CANCER_CrudePrev','CASTHMA_CrudePrev', 'CHD_CrudePrev', 'CHECKUP_CrudePrev','CHOLSCREEN_CrudePrev','COLON_SCREEN_CrudePrev','COPD_CrudePrev','COREM_CrudePrev','CSMOKING_CrudePrev','DENTAL_CrudePrev','DIABETES_CrudePrev','HIGHCHOL_CrudePrev', 'KIDNEY_CrudePrev', 'LPA_CrudePrev', 'MAMMOUSE_CrudePrev', 'MHLTH_CrudePrev', 'OBESITY_CrudePrev','PHLTH_CrudePrev','SLEEP_CrudePrev','STROKE_CrudePrev','TEETHLOST_CrudePrev']].reset_index(drop=True)\r\n",
        "health_data.head()\r\n"
      ],
      "execution_count": 12,
      "outputs": [
        {
          "output_type": "execute_result",
          "data": {
            "text/html": [
              "<div>\n",
              "<style scoped>\n",
              "    .dataframe tbody tr th:only-of-type {\n",
              "        vertical-align: middle;\n",
              "    }\n",
              "\n",
              "    .dataframe tbody tr th {\n",
              "        vertical-align: top;\n",
              "    }\n",
              "\n",
              "    .dataframe thead th {\n",
              "        text-align: right;\n",
              "    }\n",
              "</style>\n",
              "<table border=\"1\" class=\"dataframe\">\n",
              "  <thead>\n",
              "    <tr style=\"text-align: right;\">\n",
              "      <th></th>\n",
              "      <th>Geolocation</th>\n",
              "      <th>Place_TractID</th>\n",
              "      <th>Population2010</th>\n",
              "      <th>ACCESS2_CrudePrev</th>\n",
              "      <th>ARTHRITIS_CrudePrev</th>\n",
              "      <th>BINGE_CrudePrev</th>\n",
              "      <th>BPHIGH_CrudePrev</th>\n",
              "      <th>BPMED_CrudePrev</th>\n",
              "      <th>CANCER_CrudePrev</th>\n",
              "      <th>CASTHMA_CrudePrev</th>\n",
              "      <th>CHD_CrudePrev</th>\n",
              "      <th>CHECKUP_CrudePrev</th>\n",
              "      <th>CHOLSCREEN_CrudePrev</th>\n",
              "      <th>COLON_SCREEN_CrudePrev</th>\n",
              "      <th>COPD_CrudePrev</th>\n",
              "      <th>COREM_CrudePrev</th>\n",
              "      <th>CSMOKING_CrudePrev</th>\n",
              "      <th>DENTAL_CrudePrev</th>\n",
              "      <th>DIABETES_CrudePrev</th>\n",
              "      <th>HIGHCHOL_CrudePrev</th>\n",
              "      <th>KIDNEY_CrudePrev</th>\n",
              "      <th>LPA_CrudePrev</th>\n",
              "      <th>MAMMOUSE_CrudePrev</th>\n",
              "      <th>MHLTH_CrudePrev</th>\n",
              "      <th>OBESITY_CrudePrev</th>\n",
              "      <th>PHLTH_CrudePrev</th>\n",
              "      <th>SLEEP_CrudePrev</th>\n",
              "      <th>STROKE_CrudePrev</th>\n",
              "      <th>TEETHLOST_CrudePrev</th>\n",
              "    </tr>\n",
              "  </thead>\n",
              "  <tbody>\n",
              "    <tr>\n",
              "      <th>0</th>\n",
              "      <td>POINT (-118.224698433 34.0470512474)</td>\n",
              "      <td>0644000-06037206032</td>\n",
              "      <td>5275</td>\n",
              "      <td>28.0</td>\n",
              "      <td>19.9</td>\n",
              "      <td>13.0</td>\n",
              "      <td>31.7</td>\n",
              "      <td>70.0</td>\n",
              "      <td>4.5</td>\n",
              "      <td>8.5</td>\n",
              "      <td>6.9</td>\n",
              "      <td>63.8</td>\n",
              "      <td>66.0</td>\n",
              "      <td>48.6</td>\n",
              "      <td>6.5</td>\n",
              "      <td>18.2</td>\n",
              "      <td>15.6</td>\n",
              "      <td>43.6</td>\n",
              "      <td>15.5</td>\n",
              "      <td>38.3</td>\n",
              "      <td>4.1</td>\n",
              "      <td>33.3</td>\n",
              "      <td>77.6</td>\n",
              "      <td>15.0</td>\n",
              "      <td>29.5</td>\n",
              "      <td>17.3</td>\n",
              "      <td>38.9</td>\n",
              "      <td>4.0</td>\n",
              "      <td>18.8</td>\n",
              "    </tr>\n",
              "    <tr>\n",
              "      <th>1</th>\n",
              "      <td>POINT (-118.143832177 34.1633689905)</td>\n",
              "      <td>0656000-06037462001</td>\n",
              "      <td>3974</td>\n",
              "      <td>23.3</td>\n",
              "      <td>16.7</td>\n",
              "      <td>16.3</td>\n",
              "      <td>27.1</td>\n",
              "      <td>63.7</td>\n",
              "      <td>3.6</td>\n",
              "      <td>9.4</td>\n",
              "      <td>4.8</td>\n",
              "      <td>62.2</td>\n",
              "      <td>65.7</td>\n",
              "      <td>52.5</td>\n",
              "      <td>6.0</td>\n",
              "      <td>19.4</td>\n",
              "      <td>17.8</td>\n",
              "      <td>47.6</td>\n",
              "      <td>11.6</td>\n",
              "      <td>31.8</td>\n",
              "      <td>3.2</td>\n",
              "      <td>27.0</td>\n",
              "      <td>80.2</td>\n",
              "      <td>15.7</td>\n",
              "      <td>32.0</td>\n",
              "      <td>15.3</td>\n",
              "      <td>40.2</td>\n",
              "      <td>3.2</td>\n",
              "      <td>18.1</td>\n",
              "    </tr>\n",
              "    <tr>\n",
              "      <th>2</th>\n",
              "      <td>POINT (-117.883112998 33.8820402343)</td>\n",
              "      <td>0628000-06059011504</td>\n",
              "      <td>5473</td>\n",
              "      <td>11.7</td>\n",
              "      <td>8.3</td>\n",
              "      <td>18.6</td>\n",
              "      <td>13.6</td>\n",
              "      <td>49.5</td>\n",
              "      <td>2.0</td>\n",
              "      <td>9.2</td>\n",
              "      <td>2.1</td>\n",
              "      <td>59.3</td>\n",
              "      <td>54.5</td>\n",
              "      <td>59.5</td>\n",
              "      <td>3.4</td>\n",
              "      <td>34.6</td>\n",
              "      <td>13.3</td>\n",
              "      <td>61.3</td>\n",
              "      <td>4.6</td>\n",
              "      <td>21.1</td>\n",
              "      <td>1.6</td>\n",
              "      <td>16.1</td>\n",
              "      <td>81.0</td>\n",
              "      <td>14.1</td>\n",
              "      <td>18.7</td>\n",
              "      <td>8.5</td>\n",
              "      <td>33.4</td>\n",
              "      <td>1.2</td>\n",
              "      <td>11.9</td>\n",
              "    </tr>\n",
              "    <tr>\n",
              "      <th>3</th>\n",
              "      <td>POINT (-94.7523262965 32.5544549842)</td>\n",
              "      <td>4843888-48183000401</td>\n",
              "      <td>3371</td>\n",
              "      <td>19.3</td>\n",
              "      <td>21.1</td>\n",
              "      <td>20.9</td>\n",
              "      <td>28.4</td>\n",
              "      <td>72.4</td>\n",
              "      <td>5.2</td>\n",
              "      <td>9.3</td>\n",
              "      <td>5.4</td>\n",
              "      <td>66.6</td>\n",
              "      <td>68.9</td>\n",
              "      <td>60.7</td>\n",
              "      <td>6.1</td>\n",
              "      <td>35.6</td>\n",
              "      <td>20.5</td>\n",
              "      <td>58.0</td>\n",
              "      <td>9.2</td>\n",
              "      <td>33.9</td>\n",
              "      <td>2.5</td>\n",
              "      <td>25.1</td>\n",
              "      <td>74.3</td>\n",
              "      <td>13.5</td>\n",
              "      <td>33.9</td>\n",
              "      <td>11.8</td>\n",
              "      <td>34.9</td>\n",
              "      <td>2.7</td>\n",
              "      <td>15.1</td>\n",
              "    </tr>\n",
              "    <tr>\n",
              "      <th>4</th>\n",
              "      <td>POINT (-89.3623704161 43.1211036947)</td>\n",
              "      <td>5548000-55025002200</td>\n",
              "      <td>4254</td>\n",
              "      <td>10.5</td>\n",
              "      <td>23.3</td>\n",
              "      <td>25.0</td>\n",
              "      <td>27.9</td>\n",
              "      <td>74.6</td>\n",
              "      <td>6.8</td>\n",
              "      <td>9.2</td>\n",
              "      <td>6.0</td>\n",
              "      <td>70.0</td>\n",
              "      <td>76.0</td>\n",
              "      <td>70.8</td>\n",
              "      <td>5.7</td>\n",
              "      <td>29.7</td>\n",
              "      <td>16.6</td>\n",
              "      <td>72.1</td>\n",
              "      <td>8.7</td>\n",
              "      <td>34.6</td>\n",
              "      <td>2.7</td>\n",
              "      <td>18.5</td>\n",
              "      <td>80.9</td>\n",
              "      <td>11.8</td>\n",
              "      <td>29.5</td>\n",
              "      <td>11.3</td>\n",
              "      <td>30.8</td>\n",
              "      <td>2.9</td>\n",
              "      <td>12.9</td>\n",
              "    </tr>\n",
              "  </tbody>\n",
              "</table>\n",
              "</div>"
            ],
            "text/plain": [
              "                            Geolocation  ... TEETHLOST_CrudePrev\n",
              "0  POINT (-118.224698433 34.0470512474)  ...                18.8\n",
              "1  POINT (-118.143832177 34.1633689905)  ...                18.1\n",
              "2  POINT (-117.883112998 33.8820402343)  ...                11.9\n",
              "3  POINT (-94.7523262965 32.5544549842)  ...                15.1\n",
              "4  POINT (-89.3623704161 43.1211036947)  ...                12.9\n",
              "\n",
              "[5 rows x 29 columns]"
            ]
          },
          "metadata": {
            "tags": []
          },
          "execution_count": 12
        }
      ]
    },
    {
      "cell_type": "code",
      "metadata": {
        "id": "AzfxFET_0irH"
      },
      "source": [
        "health_data['longitude'] = np.nan\r\n",
        "health_data['latitude'] = np.nan\r\n",
        "i = 0\r\n",
        "while i  < health_data.shape[0]:\r\n",
        "  a = health_data.loc[i, 'Geolocation']\r\n",
        "  a = a.split()\r\n",
        "  health_data.loc[i,'longitude'] = float(a[1].replace('(', ''))\r\n",
        "  health_data.loc[i,'latitude'] = float(a[2].replace(')', ''))\r\n",
        "  i += 1"
      ],
      "execution_count": 13,
      "outputs": []
    },
    {
      "cell_type": "code",
      "metadata": {
        "colab": {
          "base_uri": "https://localhost:8080/",
          "height": 759
        },
        "id": "Six1yhlSAwGa",
        "outputId": "0530ab0e-fa25-4c21-aec7-3b3a6e86e1e8"
      },
      "source": [
        "health_data"
      ],
      "execution_count": 14,
      "outputs": [
        {
          "output_type": "execute_result",
          "data": {
            "text/html": [
              "<div>\n",
              "<style scoped>\n",
              "    .dataframe tbody tr th:only-of-type {\n",
              "        vertical-align: middle;\n",
              "    }\n",
              "\n",
              "    .dataframe tbody tr th {\n",
              "        vertical-align: top;\n",
              "    }\n",
              "\n",
              "    .dataframe thead th {\n",
              "        text-align: right;\n",
              "    }\n",
              "</style>\n",
              "<table border=\"1\" class=\"dataframe\">\n",
              "  <thead>\n",
              "    <tr style=\"text-align: right;\">\n",
              "      <th></th>\n",
              "      <th>Geolocation</th>\n",
              "      <th>Place_TractID</th>\n",
              "      <th>Population2010</th>\n",
              "      <th>ACCESS2_CrudePrev</th>\n",
              "      <th>ARTHRITIS_CrudePrev</th>\n",
              "      <th>BINGE_CrudePrev</th>\n",
              "      <th>BPHIGH_CrudePrev</th>\n",
              "      <th>BPMED_CrudePrev</th>\n",
              "      <th>CANCER_CrudePrev</th>\n",
              "      <th>CASTHMA_CrudePrev</th>\n",
              "      <th>CHD_CrudePrev</th>\n",
              "      <th>CHECKUP_CrudePrev</th>\n",
              "      <th>CHOLSCREEN_CrudePrev</th>\n",
              "      <th>COLON_SCREEN_CrudePrev</th>\n",
              "      <th>COPD_CrudePrev</th>\n",
              "      <th>COREM_CrudePrev</th>\n",
              "      <th>CSMOKING_CrudePrev</th>\n",
              "      <th>DENTAL_CrudePrev</th>\n",
              "      <th>DIABETES_CrudePrev</th>\n",
              "      <th>HIGHCHOL_CrudePrev</th>\n",
              "      <th>KIDNEY_CrudePrev</th>\n",
              "      <th>LPA_CrudePrev</th>\n",
              "      <th>MAMMOUSE_CrudePrev</th>\n",
              "      <th>MHLTH_CrudePrev</th>\n",
              "      <th>OBESITY_CrudePrev</th>\n",
              "      <th>PHLTH_CrudePrev</th>\n",
              "      <th>SLEEP_CrudePrev</th>\n",
              "      <th>STROKE_CrudePrev</th>\n",
              "      <th>TEETHLOST_CrudePrev</th>\n",
              "      <th>longitude</th>\n",
              "      <th>latitude</th>\n",
              "    </tr>\n",
              "  </thead>\n",
              "  <tbody>\n",
              "    <tr>\n",
              "      <th>0</th>\n",
              "      <td>POINT (-118.224698433 34.0470512474)</td>\n",
              "      <td>0644000-06037206032</td>\n",
              "      <td>5275</td>\n",
              "      <td>28.0</td>\n",
              "      <td>19.9</td>\n",
              "      <td>13.0</td>\n",
              "      <td>31.7</td>\n",
              "      <td>70.0</td>\n",
              "      <td>4.5</td>\n",
              "      <td>8.5</td>\n",
              "      <td>6.9</td>\n",
              "      <td>63.8</td>\n",
              "      <td>66.0</td>\n",
              "      <td>48.6</td>\n",
              "      <td>6.5</td>\n",
              "      <td>18.2</td>\n",
              "      <td>15.6</td>\n",
              "      <td>43.6</td>\n",
              "      <td>15.5</td>\n",
              "      <td>38.3</td>\n",
              "      <td>4.1</td>\n",
              "      <td>33.3</td>\n",
              "      <td>77.6</td>\n",
              "      <td>15.0</td>\n",
              "      <td>29.5</td>\n",
              "      <td>17.3</td>\n",
              "      <td>38.9</td>\n",
              "      <td>4.0</td>\n",
              "      <td>18.8</td>\n",
              "      <td>-118.224698</td>\n",
              "      <td>34.047051</td>\n",
              "    </tr>\n",
              "    <tr>\n",
              "      <th>1</th>\n",
              "      <td>POINT (-118.143832177 34.1633689905)</td>\n",
              "      <td>0656000-06037462001</td>\n",
              "      <td>3974</td>\n",
              "      <td>23.3</td>\n",
              "      <td>16.7</td>\n",
              "      <td>16.3</td>\n",
              "      <td>27.1</td>\n",
              "      <td>63.7</td>\n",
              "      <td>3.6</td>\n",
              "      <td>9.4</td>\n",
              "      <td>4.8</td>\n",
              "      <td>62.2</td>\n",
              "      <td>65.7</td>\n",
              "      <td>52.5</td>\n",
              "      <td>6.0</td>\n",
              "      <td>19.4</td>\n",
              "      <td>17.8</td>\n",
              "      <td>47.6</td>\n",
              "      <td>11.6</td>\n",
              "      <td>31.8</td>\n",
              "      <td>3.2</td>\n",
              "      <td>27.0</td>\n",
              "      <td>80.2</td>\n",
              "      <td>15.7</td>\n",
              "      <td>32.0</td>\n",
              "      <td>15.3</td>\n",
              "      <td>40.2</td>\n",
              "      <td>3.2</td>\n",
              "      <td>18.1</td>\n",
              "      <td>-118.143832</td>\n",
              "      <td>34.163369</td>\n",
              "    </tr>\n",
              "    <tr>\n",
              "      <th>2</th>\n",
              "      <td>POINT (-117.883112998 33.8820402343)</td>\n",
              "      <td>0628000-06059011504</td>\n",
              "      <td>5473</td>\n",
              "      <td>11.7</td>\n",
              "      <td>8.3</td>\n",
              "      <td>18.6</td>\n",
              "      <td>13.6</td>\n",
              "      <td>49.5</td>\n",
              "      <td>2.0</td>\n",
              "      <td>9.2</td>\n",
              "      <td>2.1</td>\n",
              "      <td>59.3</td>\n",
              "      <td>54.5</td>\n",
              "      <td>59.5</td>\n",
              "      <td>3.4</td>\n",
              "      <td>34.6</td>\n",
              "      <td>13.3</td>\n",
              "      <td>61.3</td>\n",
              "      <td>4.6</td>\n",
              "      <td>21.1</td>\n",
              "      <td>1.6</td>\n",
              "      <td>16.1</td>\n",
              "      <td>81.0</td>\n",
              "      <td>14.1</td>\n",
              "      <td>18.7</td>\n",
              "      <td>8.5</td>\n",
              "      <td>33.4</td>\n",
              "      <td>1.2</td>\n",
              "      <td>11.9</td>\n",
              "      <td>-117.883113</td>\n",
              "      <td>33.882040</td>\n",
              "    </tr>\n",
              "    <tr>\n",
              "      <th>3</th>\n",
              "      <td>POINT (-94.7523262965 32.5544549842)</td>\n",
              "      <td>4843888-48183000401</td>\n",
              "      <td>3371</td>\n",
              "      <td>19.3</td>\n",
              "      <td>21.1</td>\n",
              "      <td>20.9</td>\n",
              "      <td>28.4</td>\n",
              "      <td>72.4</td>\n",
              "      <td>5.2</td>\n",
              "      <td>9.3</td>\n",
              "      <td>5.4</td>\n",
              "      <td>66.6</td>\n",
              "      <td>68.9</td>\n",
              "      <td>60.7</td>\n",
              "      <td>6.1</td>\n",
              "      <td>35.6</td>\n",
              "      <td>20.5</td>\n",
              "      <td>58.0</td>\n",
              "      <td>9.2</td>\n",
              "      <td>33.9</td>\n",
              "      <td>2.5</td>\n",
              "      <td>25.1</td>\n",
              "      <td>74.3</td>\n",
              "      <td>13.5</td>\n",
              "      <td>33.9</td>\n",
              "      <td>11.8</td>\n",
              "      <td>34.9</td>\n",
              "      <td>2.7</td>\n",
              "      <td>15.1</td>\n",
              "      <td>-94.752326</td>\n",
              "      <td>32.554455</td>\n",
              "    </tr>\n",
              "    <tr>\n",
              "      <th>4</th>\n",
              "      <td>POINT (-89.3623704161 43.1211036947)</td>\n",
              "      <td>5548000-55025002200</td>\n",
              "      <td>4254</td>\n",
              "      <td>10.5</td>\n",
              "      <td>23.3</td>\n",
              "      <td>25.0</td>\n",
              "      <td>27.9</td>\n",
              "      <td>74.6</td>\n",
              "      <td>6.8</td>\n",
              "      <td>9.2</td>\n",
              "      <td>6.0</td>\n",
              "      <td>70.0</td>\n",
              "      <td>76.0</td>\n",
              "      <td>70.8</td>\n",
              "      <td>5.7</td>\n",
              "      <td>29.7</td>\n",
              "      <td>16.6</td>\n",
              "      <td>72.1</td>\n",
              "      <td>8.7</td>\n",
              "      <td>34.6</td>\n",
              "      <td>2.7</td>\n",
              "      <td>18.5</td>\n",
              "      <td>80.9</td>\n",
              "      <td>11.8</td>\n",
              "      <td>29.5</td>\n",
              "      <td>11.3</td>\n",
              "      <td>30.8</td>\n",
              "      <td>2.9</td>\n",
              "      <td>12.9</td>\n",
              "      <td>-89.362370</td>\n",
              "      <td>43.121104</td>\n",
              "    </tr>\n",
              "    <tr>\n",
              "      <th>...</th>\n",
              "      <td>...</td>\n",
              "      <td>...</td>\n",
              "      <td>...</td>\n",
              "      <td>...</td>\n",
              "      <td>...</td>\n",
              "      <td>...</td>\n",
              "      <td>...</td>\n",
              "      <td>...</td>\n",
              "      <td>...</td>\n",
              "      <td>...</td>\n",
              "      <td>...</td>\n",
              "      <td>...</td>\n",
              "      <td>...</td>\n",
              "      <td>...</td>\n",
              "      <td>...</td>\n",
              "      <td>...</td>\n",
              "      <td>...</td>\n",
              "      <td>...</td>\n",
              "      <td>...</td>\n",
              "      <td>...</td>\n",
              "      <td>...</td>\n",
              "      <td>...</td>\n",
              "      <td>...</td>\n",
              "      <td>...</td>\n",
              "      <td>...</td>\n",
              "      <td>...</td>\n",
              "      <td>...</td>\n",
              "      <td>...</td>\n",
              "      <td>...</td>\n",
              "      <td>...</td>\n",
              "      <td>...</td>\n",
              "    </tr>\n",
              "    <tr>\n",
              "      <th>27205</th>\n",
              "      <td>POINT (-122.407558152 37.802272509)</td>\n",
              "      <td>0667000-06075010400</td>\n",
              "      <td>4545</td>\n",
              "      <td>5.3</td>\n",
              "      <td>15.6</td>\n",
              "      <td>24.1</td>\n",
              "      <td>22.7</td>\n",
              "      <td>69.4</td>\n",
              "      <td>5.8</td>\n",
              "      <td>7.3</td>\n",
              "      <td>4.0</td>\n",
              "      <td>65.0</td>\n",
              "      <td>81.0</td>\n",
              "      <td>73.0</td>\n",
              "      <td>3.3</td>\n",
              "      <td>38.2</td>\n",
              "      <td>9.4</td>\n",
              "      <td>77.8</td>\n",
              "      <td>6.7</td>\n",
              "      <td>30.8</td>\n",
              "      <td>2.0</td>\n",
              "      <td>12.8</td>\n",
              "      <td>81.0</td>\n",
              "      <td>8.4</td>\n",
              "      <td>15.4</td>\n",
              "      <td>7.1</td>\n",
              "      <td>27.6</td>\n",
              "      <td>1.8</td>\n",
              "      <td>5.0</td>\n",
              "      <td>-122.407558</td>\n",
              "      <td>37.802273</td>\n",
              "    </tr>\n",
              "    <tr>\n",
              "      <th>27206</th>\n",
              "      <td>POINT (-89.3744412801 43.0873306533)</td>\n",
              "      <td>5548000-55025001802</td>\n",
              "      <td>2784</td>\n",
              "      <td>7.3</td>\n",
              "      <td>11.5</td>\n",
              "      <td>33.7</td>\n",
              "      <td>15.2</td>\n",
              "      <td>59.9</td>\n",
              "      <td>3.4</td>\n",
              "      <td>8.3</td>\n",
              "      <td>2.5</td>\n",
              "      <td>62.9</td>\n",
              "      <td>66.8</td>\n",
              "      <td>72.7</td>\n",
              "      <td>2.8</td>\n",
              "      <td>32.5</td>\n",
              "      <td>12.2</td>\n",
              "      <td>77.6</td>\n",
              "      <td>3.9</td>\n",
              "      <td>23.3</td>\n",
              "      <td>1.5</td>\n",
              "      <td>10.9</td>\n",
              "      <td>83.8</td>\n",
              "      <td>10.3</td>\n",
              "      <td>23.4</td>\n",
              "      <td>6.4</td>\n",
              "      <td>27.4</td>\n",
              "      <td>1.2</td>\n",
              "      <td>7.6</td>\n",
              "      <td>-89.374441</td>\n",
              "      <td>43.087331</td>\n",
              "    </tr>\n",
              "    <tr>\n",
              "      <th>27207</th>\n",
              "      <td>POINT (-86.7590618024 36.1790862802)</td>\n",
              "      <td>4752006-47037011900</td>\n",
              "      <td>2429</td>\n",
              "      <td>19.5</td>\n",
              "      <td>24.3</td>\n",
              "      <td>14.8</td>\n",
              "      <td>38.6</td>\n",
              "      <td>76.4</td>\n",
              "      <td>4.2</td>\n",
              "      <td>11.8</td>\n",
              "      <td>5.4</td>\n",
              "      <td>70.4</td>\n",
              "      <td>68.6</td>\n",
              "      <td>60.4</td>\n",
              "      <td>7.3</td>\n",
              "      <td>21.9</td>\n",
              "      <td>25.5</td>\n",
              "      <td>52.5</td>\n",
              "      <td>12.6</td>\n",
              "      <td>35.5</td>\n",
              "      <td>3.1</td>\n",
              "      <td>31.1</td>\n",
              "      <td>83.5</td>\n",
              "      <td>15.8</td>\n",
              "      <td>38.5</td>\n",
              "      <td>14.6</td>\n",
              "      <td>44.9</td>\n",
              "      <td>3.8</td>\n",
              "      <td>23.1</td>\n",
              "      <td>-86.759062</td>\n",
              "      <td>36.179086</td>\n",
              "    </tr>\n",
              "    <tr>\n",
              "      <th>27208</th>\n",
              "      <td>POINT (-104.784179329 39.6301998349)</td>\n",
              "      <td>0804000-08005085700</td>\n",
              "      <td>4608</td>\n",
              "      <td>11.0</td>\n",
              "      <td>16.6</td>\n",
              "      <td>22.3</td>\n",
              "      <td>20.1</td>\n",
              "      <td>61.0</td>\n",
              "      <td>4.1</td>\n",
              "      <td>8.7</td>\n",
              "      <td>2.9</td>\n",
              "      <td>55.5</td>\n",
              "      <td>74.2</td>\n",
              "      <td>62.0</td>\n",
              "      <td>3.6</td>\n",
              "      <td>38.3</td>\n",
              "      <td>17.3</td>\n",
              "      <td>71.4</td>\n",
              "      <td>4.7</td>\n",
              "      <td>26.0</td>\n",
              "      <td>1.7</td>\n",
              "      <td>13.9</td>\n",
              "      <td>73.7</td>\n",
              "      <td>11.1</td>\n",
              "      <td>22.0</td>\n",
              "      <td>8.2</td>\n",
              "      <td>30.6</td>\n",
              "      <td>1.6</td>\n",
              "      <td>8.6</td>\n",
              "      <td>-104.784179</td>\n",
              "      <td>39.630200</td>\n",
              "    </tr>\n",
              "    <tr>\n",
              "      <th>27209</th>\n",
              "      <td>POINT (-111.81415951 33.4260910152)</td>\n",
              "      <td>0446000-04013420902</td>\n",
              "      <td>3363</td>\n",
              "      <td>15.6</td>\n",
              "      <td>25.0</td>\n",
              "      <td>16.7</td>\n",
              "      <td>28.7</td>\n",
              "      <td>71.9</td>\n",
              "      <td>6.0</td>\n",
              "      <td>10.4</td>\n",
              "      <td>6.3</td>\n",
              "      <td>65.1</td>\n",
              "      <td>72.6</td>\n",
              "      <td>59.9</td>\n",
              "      <td>6.8</td>\n",
              "      <td>33.4</td>\n",
              "      <td>18.5</td>\n",
              "      <td>61.4</td>\n",
              "      <td>9.7</td>\n",
              "      <td>36.4</td>\n",
              "      <td>3.2</td>\n",
              "      <td>24.2</td>\n",
              "      <td>78.6</td>\n",
              "      <td>13.8</td>\n",
              "      <td>29.4</td>\n",
              "      <td>13.6</td>\n",
              "      <td>36.3</td>\n",
              "      <td>3.2</td>\n",
              "      <td>15.3</td>\n",
              "      <td>-111.814160</td>\n",
              "      <td>33.426091</td>\n",
              "    </tr>\n",
              "  </tbody>\n",
              "</table>\n",
              "<p>27210 rows × 31 columns</p>\n",
              "</div>"
            ],
            "text/plain": [
              "                                Geolocation  ...   latitude\n",
              "0      POINT (-118.224698433 34.0470512474)  ...  34.047051\n",
              "1      POINT (-118.143832177 34.1633689905)  ...  34.163369\n",
              "2      POINT (-117.883112998 33.8820402343)  ...  33.882040\n",
              "3      POINT (-94.7523262965 32.5544549842)  ...  32.554455\n",
              "4      POINT (-89.3623704161 43.1211036947)  ...  43.121104\n",
              "...                                     ...  ...        ...\n",
              "27205   POINT (-122.407558152 37.802272509)  ...  37.802273\n",
              "27206  POINT (-89.3744412801 43.0873306533)  ...  43.087331\n",
              "27207  POINT (-86.7590618024 36.1790862802)  ...  36.179086\n",
              "27208  POINT (-104.784179329 39.6301998349)  ...  39.630200\n",
              "27209   POINT (-111.81415951 33.4260910152)  ...  33.426091\n",
              "\n",
              "[27210 rows x 31 columns]"
            ]
          },
          "metadata": {
            "tags": []
          },
          "execution_count": 14
        }
      ]
    },
    {
      "cell_type": "markdown",
      "metadata": {
        "id": "vfzYUBL52UMX"
      },
      "source": [
        "# Get data from OPENSTREETMAP"
      ]
    },
    {
      "cell_type": "code",
      "metadata": {
        "id": "O-UJQMizHD8e",
        "colab": {
          "base_uri": "https://localhost:8080/",
          "height": 320
        },
        "outputId": "160f2a97-7b72-4ba1-934d-31163d5eb8b2"
      },
      "source": [
        "import requests\r\n",
        "import json\r\n",
        "\r\n",
        "\r\n",
        "overpass_url = \"http://overpass-api.de/api/interpreter\"\r\n",
        "overpass_query = \"\"\"\r\n",
        "[out:json][timeout:900];\r\n",
        "area[name=\"United States\"][admin_level=2]->.s;\r\n",
        "( \r\n",
        "  node(area.s)[\"public_transport\"=\"platform\"];\r\n",
        ")->._;\r\n",
        "out center;\r\n",
        "\"\"\"\r\n",
        "response = requests.get(overpass_url,\r\n",
        "                        params={'data': overpass_query})\r\n",
        "data = response.json()\r\n"
      ],
      "execution_count": 33,
      "outputs": [
        {
          "output_type": "error",
          "ename": "JSONDecodeError",
          "evalue": "ignored",
          "traceback": [
            "\u001b[0;31m---------------------------------------------------------------------------\u001b[0m",
            "\u001b[0;31mJSONDecodeError\u001b[0m                           Traceback (most recent call last)",
            "\u001b[0;32m<ipython-input-33-eea8d1bd4f45>\u001b[0m in \u001b[0;36m<module>\u001b[0;34m()\u001b[0m\n\u001b[1;32m     14\u001b[0m response = requests.get(overpass_url,\n\u001b[1;32m     15\u001b[0m                         params={'data': overpass_query})\n\u001b[0;32m---> 16\u001b[0;31m \u001b[0mdata\u001b[0m \u001b[0;34m=\u001b[0m \u001b[0mresponse\u001b[0m\u001b[0;34m.\u001b[0m\u001b[0mjson\u001b[0m\u001b[0;34m(\u001b[0m\u001b[0;34m)\u001b[0m\u001b[0;34m\u001b[0m\u001b[0;34m\u001b[0m\u001b[0m\n\u001b[0m",
            "\u001b[0;32m/usr/local/lib/python3.6/dist-packages/requests/models.py\u001b[0m in \u001b[0;36mjson\u001b[0;34m(self, **kwargs)\u001b[0m\n\u001b[1;32m    896\u001b[0m                     \u001b[0;31m# used.\u001b[0m\u001b[0;34m\u001b[0m\u001b[0;34m\u001b[0m\u001b[0;34m\u001b[0m\u001b[0m\n\u001b[1;32m    897\u001b[0m                     \u001b[0;32mpass\u001b[0m\u001b[0;34m\u001b[0m\u001b[0;34m\u001b[0m\u001b[0m\n\u001b[0;32m--> 898\u001b[0;31m         \u001b[0;32mreturn\u001b[0m \u001b[0mcomplexjson\u001b[0m\u001b[0;34m.\u001b[0m\u001b[0mloads\u001b[0m\u001b[0;34m(\u001b[0m\u001b[0mself\u001b[0m\u001b[0;34m.\u001b[0m\u001b[0mtext\u001b[0m\u001b[0;34m,\u001b[0m \u001b[0;34m**\u001b[0m\u001b[0mkwargs\u001b[0m\u001b[0;34m)\u001b[0m\u001b[0;34m\u001b[0m\u001b[0;34m\u001b[0m\u001b[0m\n\u001b[0m\u001b[1;32m    899\u001b[0m \u001b[0;34m\u001b[0m\u001b[0m\n\u001b[1;32m    900\u001b[0m     \u001b[0;34m@\u001b[0m\u001b[0mproperty\u001b[0m\u001b[0;34m\u001b[0m\u001b[0;34m\u001b[0m\u001b[0m\n",
            "\u001b[0;32m/usr/lib/python3.6/json/__init__.py\u001b[0m in \u001b[0;36mloads\u001b[0;34m(s, encoding, cls, object_hook, parse_float, parse_int, parse_constant, object_pairs_hook, **kw)\u001b[0m\n\u001b[1;32m    352\u001b[0m             \u001b[0mparse_int\u001b[0m \u001b[0;32mis\u001b[0m \u001b[0;32mNone\u001b[0m \u001b[0;32mand\u001b[0m \u001b[0mparse_float\u001b[0m \u001b[0;32mis\u001b[0m \u001b[0;32mNone\u001b[0m \u001b[0;32mand\u001b[0m\u001b[0;34m\u001b[0m\u001b[0;34m\u001b[0m\u001b[0m\n\u001b[1;32m    353\u001b[0m             parse_constant is None and object_pairs_hook is None and not kw):\n\u001b[0;32m--> 354\u001b[0;31m         \u001b[0;32mreturn\u001b[0m \u001b[0m_default_decoder\u001b[0m\u001b[0;34m.\u001b[0m\u001b[0mdecode\u001b[0m\u001b[0;34m(\u001b[0m\u001b[0ms\u001b[0m\u001b[0;34m)\u001b[0m\u001b[0;34m\u001b[0m\u001b[0;34m\u001b[0m\u001b[0m\n\u001b[0m\u001b[1;32m    355\u001b[0m     \u001b[0;32mif\u001b[0m \u001b[0mcls\u001b[0m \u001b[0;32mis\u001b[0m \u001b[0;32mNone\u001b[0m\u001b[0;34m:\u001b[0m\u001b[0;34m\u001b[0m\u001b[0;34m\u001b[0m\u001b[0m\n\u001b[1;32m    356\u001b[0m         \u001b[0mcls\u001b[0m \u001b[0;34m=\u001b[0m \u001b[0mJSONDecoder\u001b[0m\u001b[0;34m\u001b[0m\u001b[0;34m\u001b[0m\u001b[0m\n",
            "\u001b[0;32m/usr/lib/python3.6/json/decoder.py\u001b[0m in \u001b[0;36mdecode\u001b[0;34m(self, s, _w)\u001b[0m\n\u001b[1;32m    337\u001b[0m \u001b[0;34m\u001b[0m\u001b[0m\n\u001b[1;32m    338\u001b[0m         \"\"\"\n\u001b[0;32m--> 339\u001b[0;31m         \u001b[0mobj\u001b[0m\u001b[0;34m,\u001b[0m \u001b[0mend\u001b[0m \u001b[0;34m=\u001b[0m \u001b[0mself\u001b[0m\u001b[0;34m.\u001b[0m\u001b[0mraw_decode\u001b[0m\u001b[0;34m(\u001b[0m\u001b[0ms\u001b[0m\u001b[0;34m,\u001b[0m \u001b[0midx\u001b[0m\u001b[0;34m=\u001b[0m\u001b[0m_w\u001b[0m\u001b[0;34m(\u001b[0m\u001b[0ms\u001b[0m\u001b[0;34m,\u001b[0m \u001b[0;36m0\u001b[0m\u001b[0;34m)\u001b[0m\u001b[0;34m.\u001b[0m\u001b[0mend\u001b[0m\u001b[0;34m(\u001b[0m\u001b[0;34m)\u001b[0m\u001b[0;34m)\u001b[0m\u001b[0;34m\u001b[0m\u001b[0;34m\u001b[0m\u001b[0m\n\u001b[0m\u001b[1;32m    340\u001b[0m         \u001b[0mend\u001b[0m \u001b[0;34m=\u001b[0m \u001b[0m_w\u001b[0m\u001b[0;34m(\u001b[0m\u001b[0ms\u001b[0m\u001b[0;34m,\u001b[0m \u001b[0mend\u001b[0m\u001b[0;34m)\u001b[0m\u001b[0;34m.\u001b[0m\u001b[0mend\u001b[0m\u001b[0;34m(\u001b[0m\u001b[0;34m)\u001b[0m\u001b[0;34m\u001b[0m\u001b[0;34m\u001b[0m\u001b[0m\n\u001b[1;32m    341\u001b[0m         \u001b[0;32mif\u001b[0m \u001b[0mend\u001b[0m \u001b[0;34m!=\u001b[0m \u001b[0mlen\u001b[0m\u001b[0;34m(\u001b[0m\u001b[0ms\u001b[0m\u001b[0;34m)\u001b[0m\u001b[0;34m:\u001b[0m\u001b[0;34m\u001b[0m\u001b[0;34m\u001b[0m\u001b[0m\n",
            "\u001b[0;32m/usr/lib/python3.6/json/decoder.py\u001b[0m in \u001b[0;36mraw_decode\u001b[0;34m(self, s, idx)\u001b[0m\n\u001b[1;32m    355\u001b[0m             \u001b[0mobj\u001b[0m\u001b[0;34m,\u001b[0m \u001b[0mend\u001b[0m \u001b[0;34m=\u001b[0m \u001b[0mself\u001b[0m\u001b[0;34m.\u001b[0m\u001b[0mscan_once\u001b[0m\u001b[0;34m(\u001b[0m\u001b[0ms\u001b[0m\u001b[0;34m,\u001b[0m \u001b[0midx\u001b[0m\u001b[0;34m)\u001b[0m\u001b[0;34m\u001b[0m\u001b[0;34m\u001b[0m\u001b[0m\n\u001b[1;32m    356\u001b[0m         \u001b[0;32mexcept\u001b[0m \u001b[0mStopIteration\u001b[0m \u001b[0;32mas\u001b[0m \u001b[0merr\u001b[0m\u001b[0;34m:\u001b[0m\u001b[0;34m\u001b[0m\u001b[0;34m\u001b[0m\u001b[0m\n\u001b[0;32m--> 357\u001b[0;31m             \u001b[0;32mraise\u001b[0m \u001b[0mJSONDecodeError\u001b[0m\u001b[0;34m(\u001b[0m\u001b[0;34m\"Expecting value\"\u001b[0m\u001b[0;34m,\u001b[0m \u001b[0ms\u001b[0m\u001b[0;34m,\u001b[0m \u001b[0merr\u001b[0m\u001b[0;34m.\u001b[0m\u001b[0mvalue\u001b[0m\u001b[0;34m)\u001b[0m \u001b[0;32mfrom\u001b[0m \u001b[0;32mNone\u001b[0m\u001b[0;34m\u001b[0m\u001b[0;34m\u001b[0m\u001b[0m\n\u001b[0m\u001b[1;32m    358\u001b[0m         \u001b[0;32mreturn\u001b[0m \u001b[0mobj\u001b[0m\u001b[0;34m,\u001b[0m \u001b[0mend\u001b[0m\u001b[0;34m\u001b[0m\u001b[0;34m\u001b[0m\u001b[0m\n",
            "\u001b[0;31mJSONDecodeError\u001b[0m: Expecting value: line 1 column 1 (char 0)"
          ]
        }
      ]
    },
    {
      "cell_type": "code",
      "metadata": {
        "colab": {
          "base_uri": "https://localhost:8080/"
        },
        "id": "NaJSEuYCJ8X3",
        "outputId": "e1c3a194-56be-4664-b17a-f84c5dea8adf"
      },
      "source": [
        "data"
      ],
      "execution_count": 22,
      "outputs": [
        {
          "output_type": "execute_result",
          "data": {
            "text/plain": [
              "{'elements': [],\n",
              " 'generator': 'Overpass API 0.7.56.8 7d656e78',\n",
              " 'osm3s': {'copyright': 'The data included in this document is from www.openstreetmap.org. The data is made available under ODbL.',\n",
              "  'timestamp_areas_base': '2021-02-19T11:06:03Z',\n",
              "  'timestamp_osm_base': '2021-02-19T11:49:03Z'},\n",
              " 'remark': 'runtime error: Query timed out in \"query\" at line 5 after 181 seconds.',\n",
              " 'version': 0.6}"
            ]
          },
          "metadata": {
            "tags": []
          },
          "execution_count": 22
        }
      ]
    },
    {
      "cell_type": "markdown",
      "metadata": {
        "id": "PogRmPVenzVb"
      },
      "source": [
        "https://janakiev.com/blog/openstreetmap-with-python-and-overpass-api/\r\n",
        "Loading Data from OpenStreetMap with Python and the Overpass API"
      ]
    },
    {
      "cell_type": "code",
      "metadata": {
        "colab": {
          "base_uri": "https://localhost:8080/",
          "height": 229
        },
        "id": "CWecl4ltHJJo",
        "outputId": "57548dc8-5f26-45d4-86cd-858e39e4002a"
      },
      "source": [
        "import matplotlib.pyplot as plt\r\n",
        "\r\n",
        "# Collect coords into list\r\n",
        "coords = []\r\n",
        "for element in data['elements']:\r\n",
        "  if element['type'] == 'node':\r\n",
        "    lon = element['lon']\r\n",
        "    lat = element['lat']\r\n",
        "    coords.append((lon, lat))\r\n",
        "  elif 'center' in element:\r\n",
        "    lon = element['center']['lon']\r\n",
        "    lat = element['center']['lat']\r\n",
        "    coords.append((lon, lat))\r\n",
        "\r\n",
        "# Convert coordinates into numpy array\r\n",
        "X = np.array(coords)\r\n",
        "\r\n",
        "plt.plot(X[:, 0], X[:, 1], 'o')\r\n",
        "plt.title('POI in US')\r\n",
        "plt.xlabel('Longitude')\r\n",
        "plt.ylabel('Latitude')\r\n",
        "plt.axis('equal')\r\n",
        "plt.show()"
      ],
      "execution_count": 23,
      "outputs": [
        {
          "output_type": "error",
          "ename": "IndexError",
          "evalue": "ignored",
          "traceback": [
            "\u001b[0;31m---------------------------------------------------------------------------\u001b[0m",
            "\u001b[0;31mIndexError\u001b[0m                                Traceback (most recent call last)",
            "\u001b[0;32m<ipython-input-23-0eca3c8b20bb>\u001b[0m in \u001b[0;36m<module>\u001b[0;34m()\u001b[0m\n\u001b[1;32m     16\u001b[0m \u001b[0mX\u001b[0m \u001b[0;34m=\u001b[0m \u001b[0mnp\u001b[0m\u001b[0;34m.\u001b[0m\u001b[0marray\u001b[0m\u001b[0;34m(\u001b[0m\u001b[0mcoords\u001b[0m\u001b[0;34m)\u001b[0m\u001b[0;34m\u001b[0m\u001b[0;34m\u001b[0m\u001b[0m\n\u001b[1;32m     17\u001b[0m \u001b[0;34m\u001b[0m\u001b[0m\n\u001b[0;32m---> 18\u001b[0;31m \u001b[0mplt\u001b[0m\u001b[0;34m.\u001b[0m\u001b[0mplot\u001b[0m\u001b[0;34m(\u001b[0m\u001b[0mX\u001b[0m\u001b[0;34m[\u001b[0m\u001b[0;34m:\u001b[0m\u001b[0;34m,\u001b[0m \u001b[0;36m0\u001b[0m\u001b[0;34m]\u001b[0m\u001b[0;34m,\u001b[0m \u001b[0mX\u001b[0m\u001b[0;34m[\u001b[0m\u001b[0;34m:\u001b[0m\u001b[0;34m,\u001b[0m \u001b[0;36m1\u001b[0m\u001b[0;34m]\u001b[0m\u001b[0;34m,\u001b[0m \u001b[0;34m'o'\u001b[0m\u001b[0;34m)\u001b[0m\u001b[0;34m\u001b[0m\u001b[0;34m\u001b[0m\u001b[0m\n\u001b[0m\u001b[1;32m     19\u001b[0m \u001b[0mplt\u001b[0m\u001b[0;34m.\u001b[0m\u001b[0mtitle\u001b[0m\u001b[0;34m(\u001b[0m\u001b[0;34m'POI in US'\u001b[0m\u001b[0;34m)\u001b[0m\u001b[0;34m\u001b[0m\u001b[0;34m\u001b[0m\u001b[0m\n\u001b[1;32m     20\u001b[0m \u001b[0mplt\u001b[0m\u001b[0;34m.\u001b[0m\u001b[0mxlabel\u001b[0m\u001b[0;34m(\u001b[0m\u001b[0;34m'Longitude'\u001b[0m\u001b[0;34m)\u001b[0m\u001b[0;34m\u001b[0m\u001b[0;34m\u001b[0m\u001b[0m\n",
            "\u001b[0;31mIndexError\u001b[0m: too many indices for array: array is 1-dimensional, but 2 were indexed"
          ]
        }
      ]
    },
    {
      "cell_type": "code",
      "metadata": {
        "id": "saAikTdo-SuR"
      },
      "source": [
        "\r\n",
        "X.shape"
      ],
      "execution_count": null,
      "outputs": []
    },
    {
      "cell_type": "code",
      "metadata": {
        "id": "4opS1VjRDPxr"
      },
      "source": [
        "X= pd.DataFrame(X)\r\n",
        "X\r\n",
        "\r\n"
      ],
      "execution_count": null,
      "outputs": []
    },
    {
      "cell_type": "markdown",
      "metadata": {
        "id": "UTgNfVqq41jU"
      },
      "source": [
        "# Turn health data and POI data into GeoDataFrame"
      ]
    },
    {
      "cell_type": "code",
      "metadata": {
        "id": "iA4UvAvpsiRG"
      },
      "source": [
        "\r\n",
        "health_data_GEO = gpd.GeoDataFrame(health_data,   geometry=gpd.points_from_xy(health_data.longitude, health_data.latitude))\r\n",
        "health_data_GEO.set_crs(epsg=4326, inplace=True)\r\n"
      ],
      "execution_count": null,
      "outputs": []
    },
    {
      "cell_type": "code",
      "metadata": {
        "id": "QLJfV49UDtu2"
      },
      "source": [
        "POI_GEO = gpd.GeoDataFrame(X,   geometry=gpd.points_from_xy(X[0], X[1]))\r\n",
        "POI_GEO.set_crs(epsg=4326, inplace=True)\r\n",
        "POI_GEO"
      ],
      "execution_count": null,
      "outputs": []
    },
    {
      "cell_type": "markdown",
      "metadata": {
        "id": "FXL3TTuT5Na-"
      },
      "source": [
        "# Setup sjoin (run twice)"
      ]
    },
    {
      "cell_type": "code",
      "metadata": {
        "id": "o4z8ndWlfyiM"
      },
      "source": [
        "!apt-get install -qq curl g++ make"
      ],
      "execution_count": null,
      "outputs": []
    },
    {
      "cell_type": "code",
      "metadata": {
        "id": "kK7p_DUQf1hx"
      },
      "source": [
        "!curl -L http://download.osgeo.org/libspatialindex/spatialindex-src-1.8.5.tar.gz | tar xz"
      ],
      "execution_count": null,
      "outputs": []
    },
    {
      "cell_type": "code",
      "metadata": {
        "id": "7BK9QtAPf71W"
      },
      "source": [
        "os.chdir('spatialindex-src-1.8.5')"
      ],
      "execution_count": null,
      "outputs": []
    },
    {
      "cell_type": "code",
      "metadata": {
        "id": "6jn-WoCwhJ5H"
      },
      "source": [
        "!mount -o remount,exec /content"
      ],
      "execution_count": null,
      "outputs": []
    },
    {
      "cell_type": "code",
      "metadata": {
        "id": "R3k6HNGdgAaH"
      },
      "source": [
        "!./configure"
      ],
      "execution_count": null,
      "outputs": []
    },
    {
      "cell_type": "code",
      "metadata": {
        "id": "oJEmIExtgKHV"
      },
      "source": [
        "!make"
      ],
      "execution_count": null,
      "outputs": []
    },
    {
      "cell_type": "code",
      "metadata": {
        "id": "9JK8aPnNgVJs"
      },
      "source": [
        "!make install"
      ],
      "execution_count": null,
      "outputs": []
    },
    {
      "cell_type": "code",
      "metadata": {
        "id": "lvoxikfrFwfV"
      },
      "source": [
        "!apt install libspatialindex-dev\r\n",
        "!pip install rtree\r\n",
        "!pip install pygeos"
      ],
      "execution_count": null,
      "outputs": []
    },
    {
      "cell_type": "code",
      "metadata": {
        "id": "qSC58m9ggjjR"
      },
      "source": [
        "!ldconfig"
      ],
      "execution_count": null,
      "outputs": []
    },
    {
      "cell_type": "code",
      "metadata": {
        "id": "cH-3GeRyyLEK"
      },
      "source": [
        "!apt install libspatialindex-dev\r\n",
        "!pip install rtree"
      ],
      "execution_count": null,
      "outputs": []
    },
    {
      "cell_type": "code",
      "metadata": {
        "id": "2pqzi7I2gvLW"
      },
      "source": [
        "import rtree\r\n",
        "import pygeos"
      ],
      "execution_count": null,
      "outputs": []
    },
    {
      "cell_type": "markdown",
      "metadata": {
        "id": "9YhgdI4k5g51"
      },
      "source": [
        "# Space join"
      ]
    },
    {
      "cell_type": "code",
      "metadata": {
        "id": "riSa94vY0xWP"
      },
      "source": [
        "health_join = pd.merge(area_boundary, health_data, left_on='plctract10', right_on = 'Place_TractID')\r\n",
        "health_join_GEO = gpd.GeoDataFrame(health_join, crs=\"EPSG:4326\", geometry='geometry_x')"
      ],
      "execution_count": null,
      "outputs": []
    },
    {
      "cell_type": "code",
      "metadata": {
        "id": "w8rglyfRizJU"
      },
      "source": [
        "POI_join = gpd.sjoin(POI_GEO, health_join_GEO.to_crs(epsg=4326), how='right',op='within')\r\n",
        "POI_join.head()"
      ],
      "execution_count": null,
      "outputs": []
    },
    {
      "cell_type": "markdown",
      "metadata": {
        "id": "-AE7qRmD6wx0"
      },
      "source": [
        ""
      ]
    },
    {
      "cell_type": "code",
      "metadata": {
        "id": "HnNaOSpZkRpu"
      },
      "source": [
        "POI_join.info()"
      ],
      "execution_count": null,
      "outputs": []
    },
    {
      "cell_type": "code",
      "metadata": {
        "id": "nLoEeysPlj6n"
      },
      "source": [
        "res = POI_join[[0, 1,'Place_TractID','area']]\r\n",
        "res"
      ],
      "execution_count": null,
      "outputs": []
    },
    {
      "cell_type": "code",
      "metadata": {
        "id": "IZDZBjM52KVI"
      },
      "source": [
        "res.nunique()"
      ],
      "execution_count": null,
      "outputs": []
    },
    {
      "cell_type": "markdown",
      "metadata": {
        "id": "pAU4fMEi7mr-"
      },
      "source": [
        "# Get Count for Each GEOID\r\n"
      ]
    },
    {
      "cell_type": "code",
      "metadata": {
        "id": "nAY9fzwq7ytB"
      },
      "source": [
        "count = res.groupby('Place_TractID').count()\r\n",
        "count\r\n"
      ],
      "execution_count": null,
      "outputs": []
    },
    {
      "cell_type": "code",
      "metadata": {
        "id": "VanLigiZXMZb"
      },
      "source": [
        "res2 = pd.merge(res, count, on = ['Place_TractID'], how = 'inner')\r\n",
        "res2"
      ],
      "execution_count": null,
      "outputs": []
    },
    {
      "cell_type": "code",
      "metadata": {
        "id": "ykbgLoVSvDzx"
      },
      "source": [
        "\r\n",
        "run_count = res2.drop_duplicates(keep = 'first', subset = 'Place_TractID')\r\n",
        "run_count = run_count.loc[:,['0_x','1_x','Place_TractID','area_x','0_y']]\r\n",
        "run_count.reset_index(drop=True)\r\n"
      ],
      "execution_count": null,
      "outputs": []
    },
    {
      "cell_type": "markdown",
      "metadata": {
        "id": "r4JZgN0B4e9k"
      },
      "source": [
        "# Get points distance standard deviation"
      ]
    },
    {
      "cell_type": "code",
      "metadata": {
        "id": "RclCvJ8Fb5rm"
      },
      "source": [
        "mean = res2.groupby('Place_TractID').mean()\r\n",
        "mean"
      ],
      "execution_count": null,
      "outputs": []
    },
    {
      "cell_type": "code",
      "metadata": {
        "id": "vUT8Vz_d4eTj"
      },
      "source": [
        "\r\n",
        "run_std =  pd.merge(res2, mean, on = ['Place_TractID'])\r\n",
        "run_std\r\n",
        "\r\n"
      ],
      "execution_count": null,
      "outputs": []
    },
    {
      "cell_type": "code",
      "metadata": {
        "id": "v6OhlWQscfEv"
      },
      "source": [
        "run_std['(x-c)^2 + (y-c)^2'] = (run_std['0_x_x'] - run_std['0_x_y'])**2 + (run_std['1_x_x'] - run_std['1_x_y'])**2\r\n",
        "run_std = run_std.loc[:,['(x-c)^2 + (y-c)^2', 'Place_TractID']].groupby('Place_TractID').sum()\r\n",
        "run = pd.merge(run_count, run_std, on = ['Place_TractID'], how = 'right')\r\n",
        "run"
      ],
      "execution_count": null,
      "outputs": []
    },
    {
      "cell_type": "code",
      "metadata": {
        "id": "do94pcgXhgX5"
      },
      "source": [
        "run['STD'] = np.nan\r\n",
        "\r\n",
        "for i in range (0,run.shape[0]):\r\n",
        "  run.at[i, 'STD'] = math.sqrt(run.at[i, '(x-c)^2 + (y-c)^2'])/run.at[i, '0_y']\r\n",
        "\r\n",
        "run"
      ],
      "execution_count": null,
      "outputs": []
    },
    {
      "cell_type": "code",
      "metadata": {
        "id": "TVt8r32YrKYd"
      },
      "source": [
        "s = pd.merge(run, health_join, on = ['Place_TractID'], how = 'left')\r\n",
        "s"
      ],
      "execution_count": null,
      "outputs": []
    },
    {
      "cell_type": "code",
      "metadata": {
        "id": "7A5CO0u9s80t"
      },
      "source": [
        "run = run[['STD','0_y']]\r\n",
        "run"
      ],
      "execution_count": null,
      "outputs": []
    },
    {
      "cell_type": "code",
      "metadata": {
        "id": "5-IfgfLYsHff"
      },
      "source": [
        "US_heal = s[['area','Population2010','ACCESS2_CrudePrev','ARTHRITIS_CrudePrev','BINGE_CrudePrev','BPHIGH_CrudePrev','BPMED_CrudePrev','CANCER_CrudePrev','CASTHMA_CrudePrev', 'CHD_CrudePrev', 'CHECKUP_CrudePrev','CHOLSCREEN_CrudePrev','COLON_SCREEN_CrudePrev','COPD_CrudePrev','COREM_CrudePrev','CSMOKING_CrudePrev','DENTAL_CrudePrev','DIABETES_CrudePrev','HIGHCHOL_CrudePrev', 'KIDNEY_CrudePrev', 'LPA_CrudePrev', 'MAMMOUSE_CrudePrev', 'MHLTH_CrudePrev', 'OBESITY_CrudePrev','PHLTH_CrudePrev','SLEEP_CrudePrev','STROKE_CrudePrev','TEETHLOST_CrudePrev']]"
      ],
      "execution_count": null,
      "outputs": []
    },
    {
      "cell_type": "code",
      "metadata": {
        "id": "wS25as9qs-gF"
      },
      "source": [
        "US_heal"
      ],
      "execution_count": null,
      "outputs": []
    },
    {
      "cell_type": "code",
      "metadata": {
        "id": "3YXgr5gmuOtO"
      },
      "source": [
        "US_heal.info()"
      ],
      "execution_count": null,
      "outputs": []
    },
    {
      "cell_type": "markdown",
      "metadata": {
        "id": "Udzsa4V2765m"
      },
      "source": [
        "# Export data"
      ]
    },
    {
      "cell_type": "code",
      "metadata": {
        "id": "6eUtmK-zoI-k"
      },
      "source": [
        "os.chdir(\"/content/gdrive/My Drive/big data and city 2/\")"
      ],
      "execution_count": null,
      "outputs": []
    },
    {
      "cell_type": "code",
      "metadata": {
        "id": "caybNGlNzT4f"
      },
      "source": [
        "run.to_csv('public_transport_platform.csv', header=False, index=False)\r\n",
        "#US_heal.to_csv('US_heal.csv', header=False, index=False)"
      ],
      "execution_count": null,
      "outputs": []
    }
  ]
}